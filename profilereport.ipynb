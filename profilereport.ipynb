{
 "metadata": {
  "language_info": {
   "codemirror_mode": {
    "name": "ipython",
    "version": 3
   },
   "file_extension": ".py",
   "mimetype": "text/x-python",
   "name": "python",
   "nbconvert_exporter": "python",
   "pygments_lexer": "ipython3",
   "version": "3.9.1"
  },
  "orig_nbformat": 2,
  "kernelspec": {
   "name": "python391jvsc74a57bd0b9fdc7a4befb7ad1ff0606d75abc5088787f2c8772931e004545626bfd5e86ae",
   "display_name": "Python 3.9.1 64-bit"
  },
  "metadata": {
   "interpreter": {
    "hash": "b9fdc7a4befb7ad1ff0606d75abc5088787f2c8772931e004545626bfd5e86ae"
   }
  }
 },
 "nbformat": 4,
 "nbformat_minor": 2,
 "cells": [
  {
   "cell_type": "code",
   "execution_count": 3,
   "metadata": {},
   "outputs": [
    {
     "output_type": "stream",
     "name": "stdout",
     "text": [
      "           date  total_cases  new_cases  total_deaths  new_deaths  new_tests  \\\n0    2020-01-30            1          1           NaN         NaN        NaN   \n1    2020-01-31            1          0           NaN         NaN        NaN   \n2    2020-02-01            1          0           NaN         NaN        NaN   \n3    2020-02-02            2          1           NaN         NaN        NaN   \n4    2020-02-03            3          1           NaN         NaN        NaN   \n..          ...          ...        ...           ...         ...        ...   \n476  2021-05-20     26031991     259551      291331.0      4209.0  2055010.0   \n477  2021-05-21     26289290     257299      295525.0      4194.0  2061683.0   \n478  2021-05-22     26530132     240842      299266.0      3741.0  2066285.0   \n479  2021-05-23     26752447     222315      303720.0      4454.0  2123782.0   \n480  2021-05-24     26948874     196427      307231.0      3511.0  1928127.0   \n\n     total_tests  positive_rate  total_vaccinations  \\\n0            NaN            NaN                 NaN   \n1            NaN            NaN                 NaN   \n2            NaN            NaN                 NaN   \n3            NaN            NaN                 NaN   \n4            NaN            NaN                 NaN   \n..           ...            ...                 ...   \n476  322356187.0          0.154         187886885.0   \n477  324417870.0          0.146                 NaN   \n478  326484155.0          0.137         190842497.0   \n479  328607937.0          0.129         191719240.0   \n480  330536064.0          0.122         194165711.0   \n\n     people_vaccinated(1st Dose only)  people_fully_vaccinated  \\\n0                                 NaN                      NaN   \n1                                 NaN                      NaN   \n2                                 NaN                      NaN   \n3                                 NaN                      NaN   \n4                                 NaN                      NaN   \n..                                ...                      ...   \n476                       146624652.0               41262233.0   \n477                               NaN                      NaN   \n478                       149219616.0               41622881.0   \n479                       150033188.0               41686052.0   \n480                       152301505.0               41864206.0   \n\n     new_vaccinations  \n0                 NaN  \n1                 NaN  \n2                 NaN  \n3                 NaN  \n4                 NaN  \n..                ...  \n476         1476285.0  \n477               NaN  \n478               NaN  \n479          876743.0  \n480         2446471.0  \n\n[481 rows x 12 columns]\n"
     ]
    }
   ],
   "source": [
    "#importing packages\n",
    "import pandas as pd \n",
    "from pandas_profiling import ProfileReport\n",
    "#Reading data from specified file\n",
    "df=pd.read_csv(r\"C:\\Users\\kshit\\OneDrive\\Documents\\covidindia.csv\")\n",
    "#Forming dataframe and printing\n",
    "data=pd.DataFrame(df)\n",
    "print(df)\n",
    "#Forming profile report and saving as html file\n",
    "profile=ProfileReport(df)\n",
    "profile.to_file(output_file='covidindia.html')"
   ]
  },
  {
   "cell_type": "code",
   "execution_count": null,
   "metadata": {},
   "outputs": [],
   "source": []
  }
 ]
}